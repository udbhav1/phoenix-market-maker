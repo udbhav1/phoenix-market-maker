{
 "cells": [
  {
   "cell_type": "code",
   "execution_count": null,
   "id": "0",
   "metadata": {},
   "outputs": [],
   "source": [
    "%load_ext jupyter_black"
   ]
  },
  {
   "cell_type": "code",
   "execution_count": null,
   "id": "1",
   "metadata": {},
   "outputs": [],
   "source": [
    "import pandas as pd\n",
    "import datetime\n",
    "import plotly.graph_objects as go\n",
    "from plotly.subplots import make_subplots"
   ]
  },
  {
   "cell_type": "code",
   "execution_count": null,
   "id": "2",
   "metadata": {},
   "outputs": [],
   "source": [
    "DATA_DIR = \"../data/\"\n",
    "LOG_DIR = \"../logs/\"\n",
    "PROCESSED_DIR = \"./data/\"\n",
    "\n",
    "BASE = \"SOL\"\n",
    "QUOTE = \"USDC\""
   ]
  },
  {
   "cell_type": "markdown",
   "id": "3",
   "metadata": {},
   "source": [
    "### Utils"
   ]
  },
  {
   "cell_type": "code",
   "execution_count": null,
   "id": "4",
   "metadata": {},
   "outputs": [],
   "source": [
    "def get_quantiles(\n",
    "    series,\n",
    "    name,\n",
    "    quantiles=[\n",
    "        0.01,\n",
    "        0.05,\n",
    "        0.10,\n",
    "        0.25,\n",
    "        0.5,\n",
    "        0.75,\n",
    "        0.9,\n",
    "        0.95,\n",
    "        0.99,\n",
    "    ],\n",
    "):\n",
    "    pctile = [f\"{q*100:.0f}\" if q * 100 % 1 == 0 else f\"{q*100}\" for q in quantiles]\n",
    "    qdf = pd.DataFrame(data={\"Percentile\": pctile, name: series.quantile(quantiles)})\n",
    "    qdf = qdf.reset_index(drop=True)\n",
    "\n",
    "    return qdf\n",
    "\n",
    "\n",
    "def plot_quantile(series, name, bins=50, height=300):\n",
    "    quantiles = get_quantiles(series, name)\n",
    "\n",
    "    fig = make_subplots(\n",
    "        rows=1,\n",
    "        cols=2,\n",
    "        column_widths=[\n",
    "            0.7,\n",
    "            0.3,\n",
    "        ],\n",
    "        specs=[[{\"type\": \"xy\"}, {\"type\": \"table\"}]],\n",
    "        horizontal_spacing=0.03,\n",
    "    )\n",
    "\n",
    "    fig.add_trace(go.Histogram(x=series, nbinsx=bins, name=name), row=1, col=1)\n",
    "\n",
    "    table_header = dict(values=list(quantiles.columns), align=\"left\")\n",
    "    table_cells = dict(\n",
    "        values=[quantiles[k].tolist() for k in quantiles.columns], align=\"left\"\n",
    "    )\n",
    "\n",
    "    fig.add_trace(go.Table(header=table_header, cells=table_cells), row=1, col=2)\n",
    "\n",
    "    fig.update_layout(\n",
    "        title=\"\",\n",
    "        xaxis_title=name,\n",
    "        yaxis_title=\"Frequency\",\n",
    "        bargap=0.2,\n",
    "        height=height,\n",
    "        margin=dict(l=10, r=10, t=20, b=20),\n",
    "    )\n",
    "\n",
    "    fig.show()\n",
    "\n",
    "\n",
    "def plot_line(x_series, y_series_list, y_series_names, x_title, y_title, height=300):\n",
    "    fig = go.Figure()\n",
    "    hovertemplate = \"%{x|%Y-%m-%d %H:%M:%S.%f}<extra>%{y}</extra>\"\n",
    "    for i in range(len(y_series_list)):\n",
    "        fig.add_trace(\n",
    "            go.Scatter(\n",
    "                x=x_series,\n",
    "                y=y_series_list[i],\n",
    "                mode=\"lines\",\n",
    "                name=y_series_names[i],\n",
    "                hovertemplate=hovertemplate,\n",
    "            )\n",
    "        )\n",
    "\n",
    "    fig.update_layout(\n",
    "        title=\"\",\n",
    "        xaxis_title=x_title,\n",
    "        yaxis_title=y_title,\n",
    "        xaxis=dict(showline=True, showgrid=False, linecolor=\"rgb(204, 204, 204)\"),\n",
    "        yaxis=dict(showline=True, showgrid=False, linecolor=\"rgb(204, 204, 204)\"),\n",
    "        plot_bgcolor=\"white\",\n",
    "        height=height,\n",
    "        margin=dict(l=10, r=20, t=20, b=20),\n",
    "    )\n",
    "\n",
    "    fig.show()"
   ]
  },
  {
   "cell_type": "markdown",
   "id": "5",
   "metadata": {},
   "source": [
    "### Preprocessing"
   ]
  },
  {
   "cell_type": "code",
   "execution_count": null,
   "id": "6",
   "metadata": {},
   "outputs": [],
   "source": [
    "data_path = f\"{DATA_DIR}{BASE.lower()}-{QUOTE.lower()}.csv\"\n",
    "processed_data_path = f\"{PROCESSED_DIR}{BASE.lower()}-{QUOTE.lower()}-analysis.csv\"\n",
    "\n",
    "df = pd.read_csv(data_path)\n",
    "\n",
    "# df"
   ]
  },
  {
   "cell_type": "code",
   "execution_count": null,
   "id": "7",
   "metadata": {},
   "outputs": [],
   "source": [
    "df[\"timestamp\"] = pd.to_datetime(df[\"timestamp\"], unit=\"ms\")\n",
    "df[\"spread\"] = df[\"ASK1\"] - df[\"BID1\"]\n",
    "\n",
    "df"
   ]
  },
  {
   "cell_type": "code",
   "execution_count": null,
   "id": "8",
   "metadata": {},
   "outputs": [],
   "source": [
    "df.to_csv(processed_data_path, index=False)"
   ]
  },
  {
   "cell_type": "markdown",
   "id": "9",
   "metadata": {},
   "source": [
    "### Overview"
   ]
  },
  {
   "cell_type": "code",
   "execution_count": null,
   "id": "10",
   "metadata": {},
   "outputs": [],
   "source": [
    "time_diffs = df[\"timestamp\"].diff().dt.total_seconds() * 1000\n",
    "time_diffs = time_diffs.dropna()\n",
    "\n",
    "\n",
    "slot_diffs = df[\"slot\"].diff().dropna()"
   ]
  },
  {
   "cell_type": "code",
   "execution_count": null,
   "id": "11",
   "metadata": {},
   "outputs": [],
   "source": [
    "plot_quantiles(time_diffs, bins=50, name=\"Time between Books (ms)\")\n",
    "plot_quantiles(slot_diffs, bins=25, name=\"Slots between Books\")\n",
    "plot_quantiles(df[\"spread\"], bins=25, name=\"Spread\")\n",
    "plot_line(df[\"timestamp\"], [df[\"spread\"]], [\"Spread\"], \"Time\", \"Spread\")\n",
    "plot_line(\n",
    "    df[\"timestamp\"], [df[\"BID1\"], df[\"ASK1\"]], [\"Bid\", \"Ask\"], \"Time\", \"Best Levels\"\n",
    ")"
   ]
  },
  {
   "cell_type": "code",
   "execution_count": null,
   "id": "12",
   "metadata": {},
   "outputs": [],
   "source": []
  }
 ],
 "metadata": {
  "kernelspec": {
   "display_name": "Python 3 (ipykernel)",
   "language": "python",
   "name": "python3"
  },
  "language_info": {
   "codemirror_mode": {
    "name": "ipython",
    "version": 3
   },
   "file_extension": ".py",
   "mimetype": "text/x-python",
   "name": "python",
   "nbconvert_exporter": "python",
   "pygments_lexer": "ipython3",
   "version": "3.11.8"
  }
 },
 "nbformat": 4,
 "nbformat_minor": 5
}
