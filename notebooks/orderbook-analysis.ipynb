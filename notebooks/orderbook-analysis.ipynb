{
 "cells": [
  {
   "cell_type": "code",
   "execution_count": null,
   "id": "0",
   "metadata": {},
   "outputs": [],
   "source": [
    "%load_ext jupyter_black"
   ]
  },
  {
   "cell_type": "code",
   "execution_count": null,
   "id": "1",
   "metadata": {},
   "outputs": [],
   "source": [
    "import pandas as pd\n",
    "import datetime\n",
    "import plotly.graph_objects as go\n",
    "from plotly.subplots import make_subplots\n",
    "import pytz\n",
    "\n",
    "from utils import plot_line, plot_quantiles"
   ]
  },
  {
   "cell_type": "code",
   "execution_count": null,
   "id": "2",
   "metadata": {},
   "outputs": [],
   "source": [
    "DATA_DIR = \"../data/\"\n",
    "LOG_DIR = \"../logs/\"\n",
    "PROCESSED_DIR = \"./data/\"\n",
    "\n",
    "DATA_FILE = \"wif-usdc\""
   ]
  },
  {
   "cell_type": "markdown",
   "id": "3",
   "metadata": {},
   "source": [
    "### Preprocessing"
   ]
  },
  {
   "cell_type": "code",
   "execution_count": null,
   "id": "4",
   "metadata": {},
   "outputs": [],
   "source": [
    "data_path = f\"{DATA_DIR}{DATA_FILE}.csv\"\n",
    "processed_data_path = f\"{PROCESSED_DIR}{DATA_FILE}-analysis.csv\"\n",
    "\n",
    "df = pd.read_csv(data_path)\n",
    "\n",
    "# df"
   ]
  },
  {
   "cell_type": "code",
   "execution_count": null,
   "id": "5",
   "metadata": {},
   "outputs": [],
   "source": [
    "oracle_enabled = df[\"oracle_price\"].notna().all()\n",
    "\n",
    "df[\"timestamp_ms\"] = pd.to_datetime(df[\"timestamp_ms\"], unit=\"ms\")\n",
    "df = df.rename(columns={\"timestamp_ms\": \"timestamp\"})\n",
    "df[\"timestamp\"] = df[\"timestamp\"].dt.tz_localize(\"UTC\").dt.tz_convert(\"US/Eastern\")\n",
    "df = df.sort_values(by=\"timestamp\")\n",
    "\n",
    "df[\"midpoint\"] = (df[\"BID1\"] + df[\"ASK1\"]) / 2\n",
    "df[\"spread\"] = df[\"ASK1\"] - df[\"BID1\"]\n",
    "df[\"spread_bps\"] = df[\"spread\"] / df[\"midpoint\"] * 10000\n",
    "\n",
    "if oracle_enabled:\n",
    "    df[\"midpoint_oracle_spread\"] = df[\"midpoint\"] - df[\"oracle_price\"]\n",
    "    df[\"midpoint_oracle_spread_bps\"] = (\n",
    "        (df[\"midpoint\"] - df[\"oracle_price\"]) / df[\"oracle_price\"] * 10000\n",
    "    )\n",
    "\n",
    "df"
   ]
  },
  {
   "cell_type": "code",
   "execution_count": null,
   "id": "6",
   "metadata": {},
   "outputs": [],
   "source": [
    "df.to_csv(processed_data_path, index=False)"
   ]
  },
  {
   "cell_type": "markdown",
   "id": "7",
   "metadata": {},
   "source": [
    "### Overview"
   ]
  },
  {
   "cell_type": "code",
   "execution_count": null,
   "id": "8",
   "metadata": {},
   "outputs": [],
   "source": [
    "duration = df[\"timestamp\"].max() - df[\"timestamp\"].min()\n",
    "hours = duration.components.hours\n",
    "minutes = duration.components.minutes\n",
    "\n",
    "time_diffs = df[\"timestamp\"].diff().dt.total_seconds() * 1000\n",
    "time_diffs = time_diffs.dropna()\n",
    "\n",
    "if oracle_enabled:\n",
    "    N = max(\n",
    "        [\n",
    "            int(col[-1])\n",
    "            for col in df.columns\n",
    "            if col.startswith((\"BID\", \"ASK\")) and col[-1].isdigit()\n",
    "        ]\n",
    "    )\n",
    "\n",
    "    bid_columns = [f\"BID{i}\" for i in range(1, N + 1)] + [\n",
    "        f\"BID_SIZE{i}\" for i in range(1, N + 1)\n",
    "    ]\n",
    "    ask_columns = [f\"ASK{i}\" for i in range(1, N + 1)] + [\n",
    "        f\"ASK_SIZE{i}\" for i in range(1, N + 1)\n",
    "    ]\n",
    "\n",
    "    df[\"oracle_change\"] = df[\"oracle_price\"].diff().ne(0)\n",
    "    df[\"book_change\"] = df[bid_columns + ask_columns].diff().ne(0).any(axis=1)\n",
    "\n",
    "    oracle_updates = df.loc[df[\"oracle_change\"], \"timestamp\"]\n",
    "    oracle_diffs = oracle_updates.diff().dt.total_seconds().mul(1000).dropna()\n",
    "\n",
    "    book_updates = df.loc[df[\"book_change\"], \"timestamp\"]\n",
    "    book_diffs = book_updates.diff().dt.total_seconds().mul(1000).dropna()"
   ]
  },
  {
   "cell_type": "code",
   "execution_count": null,
   "id": "9",
   "metadata": {},
   "outputs": [],
   "source": [
    "if oracle_enabled:\n",
    "    print(\n",
    "        f\"Tracked {len(oracle_diffs) + 1} oracle updates and {len(book_diffs) + 1} book updates for {hours}h {minutes}m\"\n",
    "    )\n",
    "else:\n",
    "    print(f\"Tracked {len(book_diffs) + 1} book updates for {hours}h {minutes}m\")\n",
    "\n",
    "plot_quantiles(time_diffs, bins=50, name=\"Time between Updates (ms)\")\n",
    "if oracle_enabled:\n",
    "    plot_quantiles(oracle_diffs, bins=50, name=\"Time between Oracle (ms)\")\n",
    "    plot_quantiles(book_diffs, bins=50, name=\"Time between Books (ms)\")\n",
    "\n",
    "plot_quantiles(df[\"spread_bps\"], bins=25, name=\"Spread (bps)\")\n",
    "if oracle_enabled:\n",
    "    plot_quantiles(\n",
    "        df[\"midpoint_oracle_spread_bps\"], bins=25, name=\"Midpoint-Oracle Spread (bps)\"\n",
    "    )\n",
    "plot_line(\n",
    "    df[\"timestamp\"],\n",
    "    [df[\"spread_bps\"]],\n",
    "    [\"Spread (bps)\"],\n",
    "    \"Time\",\n",
    "    \"Spread (bps)\",\n",
    ")\n",
    "if oracle_enabled:\n",
    "    plot_line(\n",
    "        df[\"timestamp\"],\n",
    "        [df[\"midpoint_oracle_spread_bps\"]],\n",
    "        [\"Midpoint-Oracle Spread (bps)\"],\n",
    "        \"Time\",\n",
    "        \"Midpoint-Oracle Spread (bps)\",\n",
    "    )\n",
    "plot_line(\n",
    "    df[\"timestamp\"],\n",
    "    [df[\"BID1\"], df[\"ASK1\"], df[\"oracle_price\"]],\n",
    "    [\"Bid\", \"Ask\", \"Oracle\"],\n",
    "    \"Time\",\n",
    "    \"Best Levels\",\n",
    ")"
   ]
  },
  {
   "cell_type": "code",
   "execution_count": null,
   "id": "10",
   "metadata": {},
   "outputs": [],
   "source": []
  }
 ],
 "metadata": {
  "kernelspec": {
   "display_name": "Python 3 (ipykernel)",
   "language": "python",
   "name": "python3"
  },
  "language_info": {
   "codemirror_mode": {
    "name": "ipython",
    "version": 3
   },
   "file_extension": ".py",
   "mimetype": "text/x-python",
   "name": "python",
   "nbconvert_exporter": "python",
   "pygments_lexer": "ipython3",
   "version": "3.11.8"
  }
 },
 "nbformat": 4,
 "nbformat_minor": 5
}
