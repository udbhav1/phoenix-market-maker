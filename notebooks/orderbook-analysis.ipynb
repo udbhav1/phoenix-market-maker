{
 "cells": [
  {
   "cell_type": "code",
   "execution_count": null,
   "id": "0",
   "metadata": {},
   "outputs": [],
   "source": [
    "%load_ext jupyter_black"
   ]
  },
  {
   "cell_type": "code",
   "execution_count": null,
   "id": "1",
   "metadata": {},
   "outputs": [],
   "source": [
    "import pandas as pd\n",
    "import datetime\n",
    "import plotly.graph_objects as go\n",
    "from plotly.subplots import make_subplots\n",
    "import pytz\n",
    "\n",
    "from utils import plot_line, plot_quantiles"
   ]
  },
  {
   "cell_type": "code",
   "execution_count": null,
   "id": "2",
   "metadata": {},
   "outputs": [],
   "source": [
    "DATA_DIR = \"../data/\"\n",
    "LOG_DIR = \"../logs/\"\n",
    "PROCESSED_DIR = \"./data/\"\n",
    "\n",
    "BASE = \"JUP\"\n",
    "QUOTE = \"USDC\""
   ]
  },
  {
   "cell_type": "markdown",
   "id": "3",
   "metadata": {},
   "source": [
    "### Preprocessing"
   ]
  },
  {
   "cell_type": "code",
   "execution_count": null,
   "id": "4",
   "metadata": {},
   "outputs": [],
   "source": [
    "data_path = f\"{DATA_DIR}{BASE.lower()}-{QUOTE.lower()}.csv\"\n",
    "processed_data_path = f\"{PROCESSED_DIR}{BASE.lower()}-{QUOTE.lower()}-analysis.csv\"\n",
    "\n",
    "df = pd.read_csv(data_path)\n",
    "\n",
    "# df"
   ]
  },
  {
   "cell_type": "code",
   "execution_count": null,
   "id": "5",
   "metadata": {},
   "outputs": [],
   "source": [
    "df[\"timestamp\"] = pd.to_datetime(df[\"timestamp\"], unit=\"ms\")\n",
    "df[\"timestamp\"] = df[\"timestamp\"].dt.tz_localize(\"UTC\").dt.tz_convert(\"US/Eastern\")\n",
    "df = df.sort_values(by=\"timestamp\")\n",
    "\n",
    "df[\"midpoint\"] = (df[\"BID1\"] + df[\"ASK1\"]) / 2\n",
    "df[\"spread\"] = df[\"ASK1\"] - df[\"BID1\"]\n",
    "df[\"spread_bps\"] = df[\"spread\"] / df[\"midpoint\"] * 100 * 100\n",
    "\n",
    "df"
   ]
  },
  {
   "cell_type": "code",
   "execution_count": null,
   "id": "6",
   "metadata": {},
   "outputs": [],
   "source": [
    "df.to_csv(processed_data_path, index=False)"
   ]
  },
  {
   "cell_type": "markdown",
   "id": "7",
   "metadata": {},
   "source": [
    "### Overview"
   ]
  },
  {
   "cell_type": "code",
   "execution_count": null,
   "id": "8",
   "metadata": {},
   "outputs": [],
   "source": [
    "time_diffs = df[\"timestamp\"].diff().dt.total_seconds() * 1000\n",
    "time_diffs = time_diffs.dropna()\n",
    "\n",
    "slot_diffs = df[\"slot\"].diff().dropna()"
   ]
  },
  {
   "cell_type": "code",
   "execution_count": null,
   "id": "9",
   "metadata": {},
   "outputs": [],
   "source": [
    "duration = df[\"timestamp\"].max() - df[\"timestamp\"].min()\n",
    "hours = duration.components.hours\n",
    "minutes = duration.components.minutes"
   ]
  },
  {
   "cell_type": "code",
   "execution_count": null,
   "id": "10",
   "metadata": {},
   "outputs": [],
   "source": [
    "print(f\"Tracked for {hours}h {minutes}m\")\n",
    "\n",
    "plot_quantiles(time_diffs, bins=50, name=\"Time between Books (ms)\")\n",
    "plot_quantiles(slot_diffs, bins=25, name=\"Slots between Books\")\n",
    "plot_quantiles(df[\"spread_bps\"], bins=25, name=\"Spread (bps)\")\n",
    "plot_line(df[\"timestamp\"], [df[\"spread_bps\"]], [\"Spread (bps)\"], \"Time\", \"Spread (bps)\")\n",
    "plot_line(\n",
    "    df[\"timestamp\"], [df[\"BID1\"], df[\"ASK1\"]], [\"Bid\", \"Ask\"], \"Time\", \"Best Levels\"\n",
    ")"
   ]
  },
  {
   "cell_type": "code",
   "execution_count": null,
   "id": "11",
   "metadata": {},
   "outputs": [],
   "source": []
  }
 ],
 "metadata": {
  "kernelspec": {
   "display_name": "Python 3 (ipykernel)",
   "language": "python",
   "name": "python3"
  },
  "language_info": {
   "codemirror_mode": {
    "name": "ipython",
    "version": 3
   },
   "file_extension": ".py",
   "mimetype": "text/x-python",
   "name": "python",
   "nbconvert_exporter": "python",
   "pygments_lexer": "ipython3",
   "version": "3.11.8"
  }
 },
 "nbformat": 4,
 "nbformat_minor": 5
}
