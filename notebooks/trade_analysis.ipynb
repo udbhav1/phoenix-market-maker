{
 "cells": [
  {
   "cell_type": "code",
   "execution_count": null,
   "id": "0",
   "metadata": {},
   "outputs": [],
   "source": [
    "%load_ext jupyter_black"
   ]
  },
  {
   "cell_type": "code",
   "execution_count": null,
   "id": "1",
   "metadata": {},
   "outputs": [],
   "source": [
    "import pandas as pd\n",
    "import datetime\n",
    "import plotly.graph_objects as go\n",
    "from plotly.subplots import make_subplots\n",
    "import pytz\n",
    "\n",
    "from utils import plot_line, plot_quantiles"
   ]
  },
  {
   "cell_type": "code",
   "execution_count": null,
   "id": "2",
   "metadata": {},
   "outputs": [],
   "source": [
    "DATA_DIR = \"../trades/\"\n",
    "LOG_DIR = \"../logs/\"\n",
    "PROCESSED_DIR = \"./trades/\"\n",
    "\n",
    "BASE = \"WIF\"\n",
    "QUOTE = \"USDC\"\n",
    "\n",
    "BASE_PRICE_MULT = 10000\n",
    "BASE_SIZE_MULT = 100"
   ]
  },
  {
   "cell_type": "markdown",
   "id": "3",
   "metadata": {},
   "source": [
    "### Preprocessing"
   ]
  },
  {
   "cell_type": "code",
   "execution_count": null,
   "id": "4",
   "metadata": {},
   "outputs": [],
   "source": [
    "data_path = f\"{DATA_DIR}{BASE.lower()}-{QUOTE.lower()}.csv\"\n",
    "processed_data_path = f\"{PROCESSED_DIR}{BASE.lower()}-{QUOTE.lower()}-analysis.csv\"\n",
    "\n",
    "df = pd.read_csv(data_path)\n",
    "\n",
    "# df"
   ]
  },
  {
   "cell_type": "code",
   "execution_count": null,
   "id": "5",
   "metadata": {},
   "outputs": [],
   "source": [
    "df[\"timestamp\"] = pd.to_datetime(df[\"timestamp\"], unit=\"s\")\n",
    "df[\"timestamp\"] = df[\"timestamp\"].dt.tz_localize(\"UTC\").dt.tz_convert(\"US/Eastern\")\n",
    "df = df.sort_values(by=\"timestamp\")\n",
    "df[\"price\"] = df[\"price\"] / BASE_PRICE_MULT\n",
    "df[\"size\"] = df[\"size\"] / BASE_SIZE_MULT\n",
    "\n",
    "\n",
    "df.head(5)"
   ]
  },
  {
   "cell_type": "code",
   "execution_count": null,
   "id": "6",
   "metadata": {},
   "outputs": [],
   "source": [
    "df.to_csv(processed_data_path, index=False)"
   ]
  },
  {
   "cell_type": "markdown",
   "id": "7",
   "metadata": {},
   "source": [
    "### Overview"
   ]
  },
  {
   "cell_type": "code",
   "execution_count": null,
   "id": "8",
   "metadata": {},
   "outputs": [],
   "source": [
    "def calculate_pnl(df):\n",
    "    inventory = 0\n",
    "    cash_flow = 0\n",
    "\n",
    "    pnl_series = pd.Series(index=df[\"timestamp\"])\n",
    "\n",
    "    for index, row in df.iterrows():\n",
    "        trade_size = row[\"size\"]\n",
    "        trade_value = trade_size * row[\"price\"]\n",
    "\n",
    "        if row[\"side\"] == \"buy\":\n",
    "            cash_flow -= trade_value\n",
    "            inventory += trade_size\n",
    "        else:\n",
    "            cash_flow += trade_value\n",
    "            inventory -= trade_size\n",
    "\n",
    "        if inventory > 0:\n",
    "            unrealized_pnl = cash_flow + (inventory * row[\"price\"])\n",
    "        else:\n",
    "            unrealized_pnl = cash_flow + (inventory * row[\"price\"])\n",
    "\n",
    "        pnl_series.loc[row[\"timestamp\"]] = unrealized_pnl\n",
    "\n",
    "    pnl_series = pnl_series.dropna()\n",
    "    return pnl_series"
   ]
  },
  {
   "cell_type": "code",
   "execution_count": null,
   "id": "9",
   "metadata": {},
   "outputs": [],
   "source": [
    "df[\"inventory_change\"] = df.apply(\n",
    "    lambda row: row[\"size\"] if row[\"side\"] == \"buy\" else -row[\"size\"], axis=1\n",
    ")\n",
    "df[\"cumulative_inventory\"] = df[\"inventory_change\"].cumsum()\n",
    "pnl_series = calculate_pnl(df)\n",
    "flat_pnl_series = pd.Series(0, index=pnl_series.index)\n",
    "inventory_series = df.set_index(\"timestamp\")[\"cumulative_inventory\"]\n",
    "flat_inventory_series = pd.Series(0, index=inventory_series.index)\n",
    "time_diffs = df[\"timestamp\"].diff().dt.total_seconds()\n",
    "time_diffs = time_diffs.dropna()"
   ]
  },
  {
   "cell_type": "code",
   "execution_count": null,
   "id": "10",
   "metadata": {},
   "outputs": [],
   "source": [
    "duration = df[\"timestamp\"].max() - df[\"timestamp\"].min()\n",
    "hours = duration.components.hours\n",
    "minutes = duration.components.minutes\n",
    "\n",
    "trade_volume = df[\"size\"] * df[\"price\"]\n",
    "quote_volume = trade_volume.sum()\n",
    "base_volume = df[\"size\"].sum()"
   ]
  },
  {
   "cell_type": "code",
   "execution_count": null,
   "id": "11",
   "metadata": {},
   "outputs": [],
   "source": [
    "print(f\"Made {len(df)} trades over {hours}h {minutes}m\")\n",
    "print(f\"Total volume ({QUOTE}): {quote_volume:.2f}\")\n",
    "print(f\"Total volume ({BASE}): {base_volume}\")\n",
    "plot_line(\n",
    "    df[\"timestamp\"], [pnl_series, flat_pnl_series], [\"PnL\", \"Break Even\"], \"Time\", \"PnL\"\n",
    ")\n",
    "plot_line(\n",
    "    df[\"timestamp\"],\n",
    "    [inventory_series, flat_inventory_series],\n",
    "    [\"Inventory\", \"Flat\"],\n",
    "    \"Time\",\n",
    "    \"Inventory\",\n",
    ")\n",
    "plot_quantiles(time_diffs, bins=50, name=\"Time between Trades (s)\")\n",
    "plot_quantiles(df[\"size\"], bins=50, name=\"Size\")"
   ]
  },
  {
   "cell_type": "code",
   "execution_count": null,
   "id": "12",
   "metadata": {},
   "outputs": [],
   "source": [
    "df.tail(5)"
   ]
  },
  {
   "cell_type": "code",
   "execution_count": null,
   "id": "13",
   "metadata": {},
   "outputs": [],
   "source": []
  }
 ],
 "metadata": {
  "kernelspec": {
   "display_name": "Python 3 (ipykernel)",
   "language": "python",
   "name": "python3"
  },
  "language_info": {
   "codemirror_mode": {
    "name": "ipython",
    "version": 3
   },
   "file_extension": ".py",
   "mimetype": "text/x-python",
   "name": "python",
   "nbconvert_exporter": "python",
   "pygments_lexer": "ipython3",
   "version": "3.11.8"
  }
 },
 "nbformat": 4,
 "nbformat_minor": 5
}
